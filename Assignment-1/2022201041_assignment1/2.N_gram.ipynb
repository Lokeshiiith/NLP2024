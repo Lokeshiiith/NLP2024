{
 "cells": [
  {
   "cell_type": "markdown",
   "metadata": {},
   "source": [
    "# N-GRAM\n",
    "### Design a function in Python that takes a value of ’N’ and the <corpus_path>\n",
    "### and generates an N-sized N-gram model from both the given corpus"
   ]
  },
  {
   "cell_type": "code",
   "execution_count": 172,
   "metadata": {},
   "outputs": [],
   "source": [
    "coupus_path = './copus'\n",
    "corpus1 = \"./corpus/Pride and Prejudice - Jane Austen.txt\"\n",
    "corpus2 = \"./corpus/Ulysses  James Joyce.txt\"\n"
   ]
  },
  {
   "cell_type": "code",
   "execution_count": 173,
   "metadata": {},
   "outputs": [],
   "source": [
    "import re\n",
    "import collections\n",
    "def perform_cleaning(text):\n",
    "    # remove comma, extra spaces, and punctuations\n",
    "    text = re.sub(r'[,!?;-]+', '', text)\n",
    "    if text.endswith('.'):\n",
    "            text = text[:-1]#removing last dot also\n",
    "    return text\n",
    "def PerformNgram(corpus, n):\n",
    "    pattern = \"(?<!\\w\\.\\w.)(?<![A-Z][a-z]\\.)(?<=\\.|\\?)\\s\"\n",
    "    list_sentences = re.split(pattern, corpus)\n",
    "    ngrams = collections.defaultdict(int)\n",
    "    for sentence in list_sentences:\n",
    "        sentence = perform_cleaning(sentence)\n",
    "        tokens = re.split(\"\\\\s+\", sentence)\n",
    "        for i in range(len(tokens)-n+1):\n",
    "            temp = [tokens[j] for j in range(i, i+n)]\n",
    "            ngram = (\" \".join(temp))\n",
    "            # ngram = tuple(tokens[i:i+n])\n",
    "            ngrams[ngram] += 1\n",
    "    return ngrams\n",
    "        "
   ]
  },
  {
   "cell_type": "code",
   "execution_count": 174,
   "metadata": {},
   "outputs": [],
   "source": [
    "ngram = {}\n",
    "corpus = '''Hi, I am Lokesh, email id is lokeshsharma123456@gmail.com. My rollnumber is 2022201041. Mywebsite is www.abc.co.in. I\n",
    "            am using #python. My twitter id is @lokeshsharma.'''\n",
    "ngrams = PerformNgram(corpus, 3)"
   ]
  },
  {
   "cell_type": "code",
   "execution_count": 175,
   "metadata": {},
   "outputs": [
    {
     "data": {
      "text/plain": [
       "defaultdict(int,\n",
       "            {'Hi I am': 1,\n",
       "             'I am Lokesh': 1,\n",
       "             'am Lokesh email': 1,\n",
       "             'Lokesh email id': 1,\n",
       "             'email id is': 1,\n",
       "             'id is lokeshsharma123456@gmail.com': 1,\n",
       "             'My rollnumber is': 1,\n",
       "             'rollnumber is 2022201041': 1,\n",
       "             'Mywebsite is www.abc.co.in': 1,\n",
       "             'I am using': 1,\n",
       "             'am using #python': 1,\n",
       "             'My twitter id': 1,\n",
       "             'twitter id is': 1,\n",
       "             'id is @lokeshsharma': 1})"
      ]
     },
     "execution_count": 175,
     "metadata": {},
     "output_type": "execute_result"
    }
   ],
   "source": [
    "ngrams"
   ]
  },
  {
   "cell_type": "markdown",
   "metadata": {},
   "source": [
    "Interpolation"
   ]
  }
 ],
 "metadata": {
  "kernelspec": {
   "display_name": "Python 3",
   "language": "python",
   "name": "python3"
  },
  "language_info": {
   "codemirror_mode": {
    "name": "ipython",
    "version": 3
   },
   "file_extension": ".py",
   "mimetype": "text/x-python",
   "name": "python",
   "nbconvert_exporter": "python",
   "pygments_lexer": "ipython3",
   "version": "3.11.2"
  }
 },
 "nbformat": 4,
 "nbformat_minor": 2
}
