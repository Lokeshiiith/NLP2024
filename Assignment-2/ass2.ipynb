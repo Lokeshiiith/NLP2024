{
  "cells": [
    {
      "cell_type": "code",
      "execution_count": 2,
      "metadata": {
        "id": "KknE3Mjz1zOs"
      },
      "outputs": [],
      "source": [
        "import re\n",
        "import math\n",
        "import random\n",
        "import numpy as np\n",
        "import torch\n",
        "import torch.nn as nn\n",
        "from torch import optim\n",
        "import torch.nn.functional as F"
      ]
    },
    {
      "cell_type": "code",
      "execution_count": 3,
      "metadata": {
        "id": "GSxbtH_31zO3"
      },
      "outputs": [],
      "source": [
        "if torch.cuda.is_available():\n",
        "  device = torch.device(\"cuda\")\n",
        "else:\n",
        "  device = torch.device(\"cpu\")"
      ]
    },
    {
      "cell_type": "code",
      "execution_count": 4,
      "metadata": {
        "id": "-dUwTH631zO8"
      },
      "outputs": [],
      "source": [
        "word_to_index = {}\n",
        "tag_to_index = {}\n",
        "max_sentence_length = 0\n",
        "word_count = {}\n",
        "word_to_index['<PAD>'] = 0\n",
        "tag_to_index['<UNK>'] = 0"
      ]
    },
    {
      "cell_type": "code",
      "source": [
        "from google.colab import drive\n",
        "drive.mount('/content/drive')"
      ],
      "metadata": {
        "colab": {
          "base_uri": "https://localhost:8080/"
        },
        "id": "J7EKzttZY2X9",
        "outputId": "0f5203b7-c657-4a75-f976-6d8d3f29b3a4"
      },
      "execution_count": 5,
      "outputs": [
        {
          "output_type": "stream",
          "name": "stdout",
          "text": [
            "Mounted at /content/drive\n"
          ]
        }
      ]
    },
    {
      "cell_type": "code",
      "source": [
        "path = \"/content/drive/My Drive/ColabNotebooks/NLP2024\""
      ],
      "metadata": {
        "id": "FtAOyI3yY98e"
      },
      "execution_count": 11,
      "outputs": []
    },
    {
      "cell_type": "markdown",
      "metadata": {
        "id": "xYJnGQKG1zO_"
      },
      "source": [
        "Got all senteces with padding and each sentence with pos tags"
      ]
    },
    {
      "cell_type": "code",
      "execution_count": 21,
      "metadata": {
        "id": "dXTeW3lF1zPC"
      },
      "outputs": [],
      "source": [
        "# This will provide each sentence with paddings <unk>\n",
        "def process_dataset(dataset_file, p=2, s=3):\n",
        "    sentences_list = []\n",
        "    pos_list = []\n",
        "\n",
        "    with open(dataset_file, 'r', encoding='utf-8') as f:\n",
        "        sentence_tokens = []\n",
        "        pos_tags = []\n",
        "\n",
        "        for line in f:\n",
        "            line = line.strip()\n",
        "\n",
        "            if line.startswith('#'):\n",
        "                sentence_tokens = []\n",
        "                pos_tags = []\n",
        "                continue\n",
        "            elif line == '':\n",
        "                # Append padding to the end of the sentence\n",
        "                padded_sentence = ' '.join(['<PAD>'] * p) + ' ' + ' '.join(sentence_tokens) + ' ' + ' '.join(['<PAD>'] * s)\n",
        "                padded_pos = ' '.join(['<UNK>'] * p + pos_tags + ['<UNK>'] * s)\n",
        "                sentences_list.append(padded_sentence)\n",
        "                pos_list.append(padded_pos)\n",
        "                continue\n",
        "            else:\n",
        "                # New sentence begins\n",
        "                token_attrs = line.split('\\t')\n",
        "                word_form = token_attrs[1]  # Word form of the token\n",
        "                pos_tag = token_attrs[3]    # POS tag of the token\n",
        "                sentence_tokens.append(word_form)\n",
        "                pos_tags.append(pos_tag)\n",
        "    return sentences_list, pos_list"
      ]
    },
    {
      "cell_type": "code",
      "execution_count": 22,
      "metadata": {
        "id": "tNGyQXwQ1zPE"
      },
      "outputs": [],
      "source": [
        "def get_indices(sentences_list, pos_list, word_to_index, tag_to_index, max_sentence_length, word_count):\n",
        "    # Process each sentence to tokenize the data\n",
        "    for sentence_str, tag_str in zip(sentences_list, pos_list):\n",
        "        # Tokenize the sentence into individual tokens\n",
        "        tokens = sentence_str.split(' ')\n",
        "        tags = tag_str.split(' ')\n",
        "            # Word to index\n",
        "        for word, tag in zip(tokens, tags):\n",
        "            if word not in word_to_index:\n",
        "                word_to_index[word] = len(word_to_index)\n",
        "            word_count[word] = word_count.get(word, 0) + 1\n",
        "        # Tag to index\n",
        "            if tag not in tag_to_index:\n",
        "                tag_to_index[tag] = len(tag_to_index)\n",
        "        max_sentence_length = max(max_sentence_length, len(tokens))\n",
        "    return word_to_index, tag_to_index, max_sentence_length, word_count"
      ]
    },
    {
      "cell_type": "code",
      "execution_count": 20,
      "metadata": {
        "id": "W-9Wn8nK1zPG"
      },
      "outputs": [],
      "source": [
        "train_dataset = path + \"/conllu/train.conllu\"\n",
        "test_dataset = path + \"/conllu/test.conllu\"\n",
        "val_dataset = path + \"/conllu/val.conllu\"\n",
        "train_sentece_list, train_pos_list = process_dataset(train_dataset, p= 2, s= 3)\n",
        "test_sentece_list, test_pos_list = process_dataset(test_dataset, p= 2, s= 3)\n",
        "val_sentece_list, val_pos_list = process_dataset(val_dataset, p= 2, s= 3)\n",
        "\n",
        "\n",
        "sentences_list = train_sentece_list + test_sentece_list + val_sentece_list\n",
        "pos_list = train_pos_list + test_pos_list + val_pos_list\n",
        "\n",
        "# Split the data into sentences\n",
        "word_to_index = {'<UNK>': 0}\n",
        "tag_to_index = {'<UNK>': 0}\n",
        "word_count = {'<UNK>': 1}\n",
        "max_sentence_length = 0\n",
        "# get all indices\n",
        "word_to_index, tag_to_index, max_sentence_length, word_count = get_indices(sentences_list, pos_list, word_to_index, tag_to_index, max_sentence_length, word_count)"
      ]
    },
    {
      "cell_type": "markdown",
      "metadata": {
        "id": "3ZtOxDB11zPI"
      },
      "source": [
        "## Function for calculating embedding for all sentences"
      ]
    },
    {
      "cell_type": "code",
      "execution_count": 23,
      "metadata": {
        "id": "Stp0QUHh1zPJ"
      },
      "outputs": [],
      "source": [
        "def PrepareEmbedding(sentence_dataset, pos_dataset, word_to_index, tag_to_index, max_sentence_length, word_count):\n",
        "    token_embeddings = []\n",
        "    labels_embedding = []\n",
        "    for sentence_str, tag_str in zip(sentence_dataset, pos_dataset):\n",
        "        # Tokenize the sentence into individual tokens\n",
        "        tokens = sentence_str.split(' ')\n",
        "        tags = tag_str.split(' ')\n",
        "        one_sentence_token_embedding = []\n",
        "        one_sentence_pos_embedding = []\n",
        "        # Word to index\n",
        "        for word, tag in zip(tokens, tags):\n",
        "            if word in word_to_index:\n",
        "                if word_count[word] < 2:\n",
        "                    word_cur_idx = word_to_index['<UNK>']\n",
        "                else:\n",
        "                    word_cur_idx = word_to_index[word]\n",
        "            else:\n",
        "                word_cur_idx = word_to_index['<UNK>']\n",
        "            # Tag to index\n",
        "            if tag in tag_to_index:\n",
        "                tag_cur_idx = tag_to_index[tag]\n",
        "            else:\n",
        "                tag_cur_idx = tag_to_index['<UNK>']\n",
        "            one_sentence_token_embedding.append(word_cur_idx)\n",
        "            one_sentence_pos_embedding.append(tag_cur_idx)\n",
        "        # Pad sequences using PyTorch's pad_sequence function\n",
        "        token_embeddings.append(one_sentence_token_embedding)\n",
        "        labels_embedding.append(one_sentence_pos_embedding)\n",
        "    return token_embeddings, labels_embedding"
      ]
    },
    {
      "cell_type": "code",
      "execution_count": 24,
      "metadata": {
        "id": "4YoJ9BmP1zPM"
      },
      "outputs": [],
      "source": [
        "train_sentence_embeddings, train_pos_embeddings = PrepareEmbedding(train_sentece_list, train_pos_list, word_to_index, tag_to_index, max_sentence_length, word_count)\n",
        "test_sentence_embeddings, test_pos_embeddings = PrepareEmbedding(test_sentece_list, test_pos_list, word_to_index, tag_to_index, max_sentence_length, word_count)\n",
        "val_sentence_embeddings, val_pos_embeddings = PrepareEmbedding(val_sentece_list, val_pos_list, word_to_index, tag_to_index, max_sentence_length, word_count)\n",
        "# It will save a lot of time"
      ]
    },
    {
      "cell_type": "code",
      "source": [
        "train_sentence_embeddings"
      ],
      "metadata": {
        "id": "eXwdW2lfZSc7"
      },
      "execution_count": null,
      "outputs": []
    },
    {
      "cell_type": "markdown",
      "metadata": {
        "id": "aIAUCwlJ1zPN"
      },
      "source": [
        "### Feed Forward netword"
      ]
    },
    {
      "cell_type": "code",
      "execution_count": 17,
      "metadata": {
        "id": "-ckEGld31zPO"
      },
      "outputs": [],
      "source": [
        "import numpy as np\n",
        "# Step 1: Define the Model\n",
        "class FFNN(nn.Module):\n",
        "    def __init__(self, vocab_size, embedding_dim, hidden_size, output_size, p, s):\n",
        "        super(FFNN, self).__init__()\n",
        "        # Calculate the actual input size considering embedding dimensions\n",
        "        self.embedding = nn.Embedding(vocab_size, embedding_dim)\n",
        "        self.fc1 = nn.Linear((p + s + 1) *embedding_dim , hidden_size)\n",
        "        self.fc2 = nn.Linear(hidden_size, output_size)\n",
        "        self.relu = nn.ReLU()\n",
        "\n",
        "    def forward(self, x):\n",
        "        # Flatten the input tensor\n",
        "        first = self.embedding(x)\n",
        "        first = first.view(-1)\n",
        "        out = self.fc1(first)\n",
        "        out = self.relu(out)\n",
        "        out = self.fc2(out)\n",
        "        return out"
      ]
    },
    {
      "cell_type": "code",
      "source": [
        "device = torch.device(\"cuda\" if torch.cuda.is_available() else \"cpu\")\n",
        "print(f\"Using device: {device}\")"
      ],
      "metadata": {
        "colab": {
          "base_uri": "https://localhost:8080/"
        },
        "id": "5y38SN9oNDNL",
        "outputId": "ca712d2f-26c1-44bb-e5af-9503dc5d82ad"
      },
      "execution_count": 52,
      "outputs": [
        {
          "output_type": "stream",
          "name": "stdout",
          "text": [
            "Using device: cuda\n"
          ]
        }
      ]
    },
    {
      "cell_type": "code",
      "execution_count": 18,
      "metadata": {
        "id": "bjskRwFt1zPP",
        "colab": {
          "base_uri": "https://localhost:8080/"
        },
        "outputId": "0bd8746b-ec18-41bf-8257-96e7418c6e31"
      },
      "outputs": [
        {
          "output_type": "stream",
          "name": "stdout",
          "text": [
            "Epoch [1/10], Train Loss: 1.9518\n",
            "Epoch [1/10], Validation Loss: 3.7658\n",
            "Epoch [2/10], Train Loss: 0.9409\n",
            "Epoch [2/10], Validation Loss: 2.5182\n",
            "Epoch [3/10], Train Loss: 0.7257\n",
            "Epoch [3/10], Validation Loss: 2.6724\n",
            "Epoch [4/10], Train Loss: 0.6457\n",
            "Epoch [4/10], Validation Loss: 2.8541\n",
            "Epoch [5/10], Train Loss: 0.5448\n",
            "Epoch [5/10], Validation Loss: 4.0716\n",
            "Epoch [6/10], Train Loss: 0.5319\n",
            "Epoch [6/10], Validation Loss: 3.8796\n",
            "Epoch [7/10], Train Loss: 0.5396\n",
            "Epoch [7/10], Validation Loss: 4.5263\n",
            "Epoch [8/10], Train Loss: 0.5054\n",
            "Epoch [8/10], Validation Loss: 4.5604\n",
            "Epoch [9/10], Train Loss: 0.4874\n",
            "Epoch [9/10], Validation Loss: 5.2129\n",
            "Epoch [10/10], Train Loss: 0.5248\n",
            "Epoch [10/10], Validation Loss: 4.9388\n",
            "Test Loss: 4.7031\n"
          ]
        }
      ],
      "source": [
        "# Define the number of steps after which to print the loss and accuracy\n",
        "print_interval = 100\n",
        "\n",
        "# Step 2: Define Loss Function\n",
        "criterion = nn.CrossEntropyLoss()\n",
        "\n",
        "# Step 3: Instantiate Model\n",
        "vocab_size = len(word_to_index)\n",
        "embedding_dim = 100  # Example dimension, adjust as needed\n",
        "hidden_size = 64  # Example size, adjust as needed\n",
        "output_size = len(tag_to_index)\n",
        "p = 2\n",
        "s = 3\n",
        "model = FFNN(vocab_size, embedding_dim, hidden_size, output_size, p, s).to(device)\n",
        "optimizer = optim.Adam(model.parameters(), lr=0.001) # Example optimizer, adjust as needed\n",
        "\n",
        "def train_model(model, criterion, optimizer, train_embeddings, train_pos_embeddings, print_interval, epoch):\n",
        "    model.train()  # Set the model to training mode\n",
        "    running_loss = 0.0\n",
        "    # Iterate over the training dataset\n",
        "    for token_indices, pos_indices in zip(train_embeddings, train_pos_embeddings):\n",
        "        token_indices = torch.LongTensor(token_indices).to(device)\n",
        "        pos_indices = torch.LongTensor(pos_indices).to(device)\n",
        "        # Create sliding window of size 6 and convert to tensors\n",
        "        for i in range(p, len(token_indices) - s):\n",
        "            window_tokens = token_indices[i-p:i+s+1]\n",
        "            # window_tokens_tensor = torch.LongTensor(window_tokens).to(device)\n",
        "            pos_tag = pos_indices[i]\n",
        "            # creating one hot encoding for the pos tag\n",
        "            # length should be the number of tags\n",
        "            pos_tag_tensor = torch.zeros(len(tag_to_index)).to(device)\n",
        "            pos_tag_tensor[pos_tag] = 1\n",
        "            optimizer.zero_grad()\n",
        "            outputs = model(window_tokens)  # Forward pass\n",
        "            # Calculate loss\n",
        "            loss = criterion(outputs, pos_tag_tensor)  # Compare outputs with true labels\n",
        "            # Backward pass and optimization\n",
        "            loss.backward()\n",
        "            optimizer.step()\n",
        "            running_loss += loss.item()\n",
        "\n",
        "    return running_loss / len(train_embeddings)\n",
        "\n",
        "def evaluate_model(model, criterion, val_embeddings, val_pos_embeddings):\n",
        "    model.eval()  # Set the model to evaluation mode\n",
        "    running_loss = 0.0\n",
        "\n",
        "    # Iterate over the validation dataset\n",
        "    with torch.no_grad():\n",
        "        for token_indices, pos_indices in zip(val_embeddings, val_pos_embeddings):\n",
        "            # Create sliding window of size 6 and convert to tensors\n",
        "            token_indices = torch.LongTensor(token_indices).to(device)\n",
        "            pos_indices = torch.LongTensor(pos_indices).to(device)\n",
        "            for i in range(p, len(token_indices) - s):\n",
        "                window_tokens = token_indices[i-p:i+s+1]\n",
        "                # window_tokens_tensor = torch.LongTensor(window_tokens).to(device)\n",
        "                pos_tag = pos_indices[i]\n",
        "                # creating one hot encoding for the pos tag\n",
        "                # length should be the number of tags\n",
        "                pos_tag_tensor = torch.zeros(len(tag_to_index)).to(device)\n",
        "                pos_tag_tensor[pos_tag] = 1\n",
        "                outputs = model(window_tokens)  # Forward pass\n",
        "                # Calculate loss\n",
        "                loss = criterion(outputs, pos_tag_tensor)  # Compare outputs with true labels\n",
        "                running_loss += loss.item()\n",
        "\n",
        "    return running_loss / len(val_embeddings)\n",
        "\n",
        "def test_model(model, criterion, test_embeddings, test_pos_embeddings):\n",
        "    model.eval()  # Set the model to evaluation mode\n",
        "    running_loss = 0.0\n",
        "\n",
        "    # Iterate over the test dataset\n",
        "    with torch.no_grad():\n",
        "        for token_indices, pos_indices in zip(test_embeddings, test_pos_embeddings):\n",
        "            # Create sliding window of size 6 and convert to tensors\n",
        "            token_indices = torch.LongTensor(token_indices).to(device)\n",
        "            pos_indices = torch.LongTensor(pos_indices).to(device)\n",
        "            for i in range(p, len(token_indices) - s):\n",
        "                window_tokens = token_indices[i-p:i+s+1]\n",
        "                # window_tokens_tensor = torch.LongTensor(window_tokens)\n",
        "                pos_tag = pos_indices[i]\n",
        "                # creating one hot encoding for the pos tag\n",
        "                # length should be the number of tags\n",
        "                pos_tag_tensor = torch.zeros(len(tag_to_index)).to(device)\n",
        "                pos_tag_tensor[pos_tag] = 1\n",
        "                outputs = model(window_tokens)  # Forward pass\n",
        "                # Calculate loss\n",
        "                loss = criterion(outputs, pos_tag_tensor)  # Compare outputs with true labels\n",
        "                running_loss += loss.item()\n",
        "\n",
        "    return running_loss / len(test_embeddings)\n",
        "\n",
        "# Number of epochs\n",
        "num_epochs = 10\n",
        "train_losses = []\n",
        "val_losses = []\n",
        "for epoch in range(num_epochs):\n",
        "    # Training phase\n",
        "    train_loss = train_model(model, criterion, optimizer, train_sentence_embeddings, train_pos_embeddings, print_interval, epoch+1)\n",
        "    print(f\"Epoch [{epoch + 1}/{num_epochs}], Train Loss: {train_loss:.4f}\")\n",
        "    train_losses.append(train_loss)\n",
        "    # Validation phase\n",
        "    val_loss = evaluate_model(model, criterion, val_sentence_embeddings, val_pos_embeddings)\n",
        "    print(f\"Epoch [{epoch + 1}/{num_epochs}], Validation Loss: {val_loss:.4f}\")\n",
        "    val_losses.append(val_loss)\n",
        "\n",
        "# Testing phase\n",
        "test_loss = test_model(model, criterion, test_sentence_embeddings, test_pos_embeddings)\n",
        "print(f\"Test Loss: {test_loss:.4f}\")\n",
        "\n"
      ]
    },
    {
      "cell_type": "code",
      "source": [
        "FFNNmodel_path = path +  '/FFNNmodel.pth'\n",
        "# Save the model\n",
        "torch.save(model.state_dict(), FFNNmodel_path)"
      ],
      "metadata": {
        "id": "tqAUo2oxOJO1"
      },
      "execution_count": 19,
      "outputs": []
    },
    {
      "cell_type": "code",
      "source": [
        "def evaluateFFNN(model, sentences, word_to_index, tag_to_index, device):\n",
        "    sentence_token = sentences.split(' ')\n",
        "    embedded_sentence = [word_to_index[word] if word in word_to_index else word_to_index['<UNK>'] for word in sentence_token]\n",
        "    embedded_sentence = torch.tensor(embedded_sentence, dtype=torch.long)\n",
        "    token = []\n",
        "    tag = []\n",
        "    for i in range(2, len(embedded_sentence) - 3):\n",
        "        input = embedded_sentence[i-2:i+3 + 1].to(device)\n",
        "        output = model(input)\n",
        "        token.append(sentence_token[i])\n",
        "        tag.append(list(tag_to_index.keys())[list(tag_to_index.values()).index(torch.argmax(output).item())])\n",
        "\n",
        "    for i in range(len(token)):\n",
        "        print(f\"{token[i]}: {tag[i]}\")\n",
        "\n",
        "\n",
        "sentence = \"where is the beset place to go for a vacation\"\n",
        "padded_sentence = ' '.join(['<PAD>'] * p) + ' ' + ''.join(sentence) + ' ' + ' '.join(['<PAD>'] * s)\n",
        "device = torch.device(\"cuda\" if torch.cuda.is_available() else \"cpu\")\n",
        "model = FFNN(vocab_size, embedding_dim, hidden_size, output_size, p, s)\n",
        "model_param = torch.load('FFNNmodel.pth')\n",
        "model.load_state_dict(model_param)\n",
        "\n",
        "evaluateFFNN(model, padded_sentence, word_to_index, tag_to_index, device)\n"
      ],
      "metadata": {
        "id": "XLpEjcBpNVT7"
      },
      "execution_count": null,
      "outputs": []
    },
    {
      "cell_type": "markdown",
      "metadata": {
        "id": "S3vBplMA1zPS"
      },
      "source": [
        "Data prepare"
      ]
    },
    {
      "cell_type": "code",
      "execution_count": null,
      "metadata": {
        "id": "9H90c6o41zPT"
      },
      "outputs": [],
      "source": [
        "X_train, y_train = process_data(train_data, word_to_index, tag_to_index, max_sentence_length, word_count)\n",
        "X_val, y_val = process_data(val_data, word_to_index, tag_to_index, max_sentence_length, word_count)\n",
        "X_test, y_test = process_data(test_data, word_to_index, tag_to_index, max_sentence_length, word_count)\n",
        "\n",
        "\n"
      ]
    },
    {
      "cell_type": "markdown",
      "metadata": {
        "id": "MeFHOoj_1zPT"
      },
      "source": [
        "# Step 2: Create PyTorch DataLoaders"
      ]
    },
    {
      "cell_type": "code",
      "execution_count": null,
      "metadata": {
        "id": "gntcRnCs1zPU"
      },
      "outputs": [],
      "source": [
        "import torch\n",
        "import torch.nn as nn\n",
        "import torch.optim as optim\n",
        "from torch.utils.data import TensorDataset, DataLoader"
      ]
    },
    {
      "cell_type": "markdown",
      "metadata": {
        "id": "1d5sUTQL1zPU"
      },
      "source": [
        "#### Create PyTorch datasets and data loaders for training data. This allows efficient batching and shuffling of data."
      ]
    },
    {
      "cell_type": "code",
      "execution_count": null,
      "metadata": {
        "id": "oG3oyjSd1zPV"
      },
      "outputs": [],
      "source": [
        "train_dataset = TensorDataset(torch.from_numpy(X_train), torch.from_numpy(y_train))\n",
        "train_loader = DataLoader(train_dataset, batch_size=64, shuffle=True)"
      ]
    },
    {
      "cell_type": "markdown",
      "metadata": {
        "id": "Q0Co8NMW1zPV"
      },
      "source": [
        "# Define Model"
      ]
    },
    {
      "cell_type": "markdown",
      "metadata": {
        "id": "9k5dYXnR1zPW"
      },
      "source": [
        "X_train.shape[1] is used to specify the input size of the neural network model.     X_train.shape[1] accesses the second element of the shape tuple, which represents the number of features or input dimensions in your dataset. In the example (1000, 50), X_train.shape[1] would be 50.\n",
        "\n",
        "Sending X_train.shape[1] as the input_size parameter to the FFNN constructor ensures that the input layer of your neural network has the correct number of neurons to accommodate the input features of your dataset."
      ]
    },
    {
      "cell_type": "code",
      "execution_count": null,
      "metadata": {
        "id": "JeXrod_b1zPW"
      },
      "outputs": [],
      "source": []
    },
    {
      "cell_type": "code",
      "execution_count": null,
      "metadata": {
        "id": "G1Z02qYq1zPW"
      },
      "outputs": [],
      "source": [
        "# Step 3: Define Loss Function and Optimizer\n",
        "model = FFNN(input_size=X_train.shape[1], hidden_size=128, output_size=y_train.shape[1])\n",
        "criterion = nn.CrossEntropyLoss()\n",
        "optimizer = optim.Adam(model.parameters(), lr=0.001)"
      ]
    },
    {
      "cell_type": "markdown",
      "metadata": {
        "id": "FCORa_z61zPX"
      },
      "source": [
        "\n",
        "# Step 4: Training Loop"
      ]
    },
    {
      "cell_type": "code",
      "execution_count": null,
      "metadata": {
        "id": "o172UsOa1zPY"
      },
      "outputs": [],
      "source": [
        "for epoch in range(1000):  # Adjust number of epochs as needed\n",
        "    for batch_idx, (data, target) in enumerate(train_loader):\n",
        "        optimizer.zero_grad()\n",
        "        output = model(data)\n",
        "        loss = criterion(output, target.float())\n",
        "        loss.backward()\n",
        "        optimizer.step()\n",
        "\n",
        "        if batch_idx % 100 == 0:\n",
        "            print('Train Epoch: {} [{}/{} ({:.0f}%)]\\tLoss: {:.6f}'.format(\n",
        "                epoch, batch_idx * len(data), len(train_loader.dataset),\n",
        "                100. * batch_idx / len(train_loader), loss.item()))"
      ]
    },
    {
      "cell_type": "code",
      "execution_count": null,
      "metadata": {
        "id": "u4WnjDec1zPY"
      },
      "outputs": [],
      "source": [
        "index_to_tag = {v: k for k, v in tag_to_index.items()}"
      ]
    },
    {
      "cell_type": "markdown",
      "metadata": {
        "id": "ZQNjFqeL1zPa"
      },
      "source": [
        "# Question2 : 2 Recurrent Neural Network POS Tagging\n",
        "Design and implement a model which uses Recurrent Neural Networks (Vanilla\n",
        "RNN, LSTM, or GRU) for POS Tagging. The model should take the embed\u0002dings for all tokens in a sentence and output the corresponding POS tags in\n",
        "sequence.\n",
        "- For Example: In the sentence \"An apple a day keeps the doctor away\",\n",
        " the model takes the embeddings for\n",
        "- [\"An\", \"apple\", \"a\", \"day\", \"keeps\", \"the\",\"doctor\", \"away\"] and\n",
        " outputs the POS tags for all the words in the sentence\n",
        "- [\"DET\", \"NOUN\", \"DET\", \"NOUN\", \"VERB\", \"DET\", \"NOUN\", \"ADV\"]"
      ]
    },
    {
      "cell_type": "markdown",
      "metadata": {
        "id": "oGzkJfJB1zPb"
      },
      "source": [
        "Step1 : Count all words and postags and provide them a index value"
      ]
    },
    {
      "cell_type": "markdown",
      "metadata": {
        "id": "trmShB5S1zPb"
      },
      "source": [
        "- Doing it for all 3 datasets train, validation and test-dataset"
      ]
    },
    {
      "cell_type": "code",
      "source": [
        "# Selecting sentences for training\n",
        "train_sentece_list_train = train_sentece_list[:8]\n",
        "train_pos_list_train = train_pos_list[:8]\n",
        "\n",
        "# Selecting sentences for validation\n",
        "val_sentece_list_val = val_sentece_list[:4]\n",
        "val_pos_list_val = val_pos_list[:4]\n",
        "\n",
        "# Selecting sentences for testing\n",
        "test_sentece_list_test = test_sentece_list[:4]\n",
        "test_pos_list_test = test_pos_list[:4]\n",
        "\n",
        "# Prepare embeddings for training, validation, and testing datasets\n",
        "train_sentence_embeddings, train_pos_embeddings = PrepareEmbedding(train_sentece_list_train, train_pos_list_train, word_to_index, tag_to_index, max_sentence_length, word_count)\n",
        "val_sentence_embeddings, val_pos_embeddings = PrepareEmbedding(val_sentece_list_val, val_pos_list_val, word_to_index, tag_to_index, max_sentence_length, word_count)\n",
        "test_sentence_embeddings, test_pos_embeddings = PrepareEmbedding(test_sentece_list_test, test_pos_list_test, word_to_index, tag_to_index, max_sentence_length, word_count)\n"
      ],
      "metadata": {
        "id": "CPkUc3Hh6Iru"
      },
      "execution_count": 37,
      "outputs": []
    },
    {
      "cell_type": "code",
      "source": [
        "import torch.nn as nn\n",
        "import torch.nn.functional as F\n",
        "\n",
        "class LSTMTagger(nn.Module):\n",
        "\n",
        "    def __init__(self, embedding_dim, hidden_dim, vocab_size, tagset_size):\n",
        "        super(LSTMTagger, self).__init__()\n",
        "        self.hidden_dim = hidden_dim\n",
        "        self.word_embeddings = nn.Embedding(vocab_size, embedding_dim)\n",
        "        self.lstm = nn.LSTM(embedding_dim, hidden_dim, bidirectional=True)\n",
        "        self.hidden2tag = nn.Linear(hidden_dim * 2, tagset_size)\n",
        "\n",
        "    def forward(self, input_sentence):\n",
        "        embeds = self.word_embeddings(input_sentence)\n",
        "        lstm_out, _ = self.lstm(embeds.view(len(input_sentence), 1, -1))\n",
        "        tag_space = self.hidden2tag(lstm_out.view(len(input_sentence), -1))\n",
        "        tag_scores = F.log_softmax(tag_space, dim=1)\n",
        "        return tag_scores\n"
      ],
      "metadata": {
        "id": "wAPlD2klZmns"
      },
      "execution_count": 25,
      "outputs": []
    },
    {
      "cell_type": "code",
      "source": [
        "vocab_size = len(word_to_index)\n",
        "tagset_size = len(tag_to_index)\n",
        "embedding_dim = 100\n",
        "hidden_dim = 128"
      ],
      "metadata": {
        "id": "zNTNELoFZpX8"
      },
      "execution_count": 26,
      "outputs": []
    },
    {
      "cell_type": "code",
      "source": [
        "def trainModel(model):\n",
        "    optimizer = torch.optim.SGD(model.parameters(), lr=0.1)\n",
        "    loss_function = nn.CrossEntropyLoss()\n",
        "    for epoch in range(10):\n",
        "        model.zero_grad()\n",
        "        # ?PrepareEmbedding\n",
        "        for sentence, tags in zip(train_sentence_embeddings, train_pos_embeddings):\n",
        "            sentence_in = torch.LongTensor(sentence).to(device)\n",
        "            targets = torch.LongTensor(tags).to(device)\n",
        "            tag_scores = model(sentence_in)\n",
        "            loss = loss_function(tag_scores, targets)\n",
        "            loss.backward()\n",
        "            optimizer.step()\n",
        "def testModel(model, test_sentence_embeddings, test_pos_embeddings):\n",
        "    model.eval()  # Set the model to evaluation mode\n",
        "    correct = 0\n",
        "    total = 0\n",
        "    with torch.no_grad():  # No need to track gradients during testing\n",
        "        for sentence, tags in zip(test_sentence_embeddings, test_pos_embeddings):\n",
        "            sentence_in = torch.LongTensor(sentence).to(device)\n",
        "            targets = torch.LongTensor(tags).to(device)\n",
        "            tag_scores = model(sentence_in)\n",
        "            _, predicted = torch.max(tag_scores, 1)\n",
        "            total += targets.size(0)\n",
        "            correct += (predicted == targets).sum().item()\n",
        "    accuracy = correct / total\n",
        "    print(f\"Test Accuracy: {accuracy * 100:.2f}%\")\n",
        "    return accuracy\n",
        "model = LSTMTagger(embedding_dim, hidden_dim, len(word_to_index), len(tag_to_index)).to(device)\n",
        "trainModel(model)\n",
        "testModel(model, test_sentence_embeddings, test_pos_embeddings)\n"
      ],
      "metadata": {
        "colab": {
          "base_uri": "https://localhost:8080/"
        },
        "id": "3bT0Ru3jZsFZ",
        "outputId": "8dcb94b3-daa6-4ae8-bb71-090bd5570a8a"
      },
      "execution_count": 27,
      "outputs": [
        {
          "output_type": "stream",
          "name": "stdout",
          "text": [
            "Test Accuracy: 84.14%\n"
          ]
        },
        {
          "output_type": "execute_result",
          "data": {
            "text/plain": [
              "0.8414300736067297"
            ]
          },
          "metadata": {},
          "execution_count": 27
        }
      ]
    },
    {
      "cell_type": "code",
      "source": [
        "from sklearn.metrics import accuracy_score, recall_score, precision_score, f1_score, confusion_matrix\n",
        "\n",
        "def evaluate_model(model, data_sentence_embeddings, data_pos_embeddings):\n",
        "    model.eval()  # Set the model to evaluation mode\n",
        "    all_targets = []\n",
        "    all_predicted = []\n",
        "    with torch.no_grad():  # No need to track gradients during evaluation\n",
        "        for sentence, tags in zip(data_sentence_embeddings, data_pos_embeddings):\n",
        "            sentence_in = torch.LongTensor(sentence).to(device)\n",
        "            targets = torch.LongTensor(tags).to(device)\n",
        "            tag_scores = model(sentence_in)\n",
        "            _, predicted = torch.max(tag_scores, 1)\n",
        "            all_targets.extend(targets.cpu().numpy())\n",
        "            all_predicted.extend(predicted.cpu().numpy())\n",
        "\n",
        "    accuracy = accuracy_score(all_targets, all_predicted)\n",
        "    recall = recall_score(all_targets, all_predicted, average='micro')\n",
        "    precision = precision_score(all_targets, all_predicted, average='micro')\n",
        "    f1 = f1_score(all_targets, all_predicted, average='micro')\n",
        "\n",
        "    print(\"Evaluation Metrics:\")\n",
        "    print(f\"Accuracy: {accuracy * 100:.2f}%\")\n",
        "    print(f\"Recall: {recall:.4f}\")\n",
        "    print(f\"Precision: {precision:.4f}\")\n",
        "    print(f\"F1 Score: {f1:.4f}\")\n",
        "\n",
        "    # Generate confusion matrix\n",
        "    confusion_mat = confusion_matrix(all_targets, all_predicted)\n",
        "    print(\"Confusion Matrix:\")\n",
        "    print(confusion_mat)\n",
        "\n",
        "    return accuracy, recall, precision, f1, confusion_mat\n",
        "\n",
        "# Evaluation on validation set\n",
        "print(\"Validation Set Evaluation:\")\n",
        "val_accuracy, val_recall, val_precision, val_f1, val_confusion_mat = evaluate_model(model, val_sentence_embeddings, val_pos_embeddings)\n",
        "\n",
        "# Evaluation on test set\n",
        "print(\"Test Set Evaluation:\")\n",
        "test_accuracy, test_recall, test_precision, test_f1, test_confusion_mat = evaluate_model(model, test_sentence_embeddings, test_pos_embeddings)\n"
      ],
      "metadata": {
        "colab": {
          "base_uri": "https://localhost:8080/"
        },
        "id": "z-AEiX7i7XLE",
        "outputId": "86c471f5-2019-48a2-db46-f1a447267f3f"
      },
      "execution_count": 23,
      "outputs": [
        {
          "output_type": "stream",
          "name": "stdout",
          "text": [
            "Validation Set Evaluation:\n",
            "Evaluation Metrics:\n",
            "Accuracy: 87.34%\n",
            "Recall: 0.8734\n",
            "Precision: 0.8734\n",
            "F1 Score: 0.8734\n",
            "Confusion Matrix:\n",
            "[[2860    0    0    0    0    0    0    0    0    0    0    0    0    0\n",
            "     0]\n",
            " [   0  365    1   45    1    0    1    1    0    0    0    0    0    0\n",
            "     0]\n",
            " [   0    0  226    1    3    1    2   31    0    0    0    2    0    0\n",
            "     0]\n",
            " [   0   13    0  522    5    6   11    7    0    3    0    0    0    1\n",
            "     0]\n",
            " [   0    1    5    7  880    9  167   28   13   28    0    5    0    0\n",
            "     0]\n",
            " [   0   28    0    1   52 1268   49    9    3    1    0    1    3    0\n",
            "     0]\n",
            " [   0    9    1    8  108   26 1290   54   15   27    0   13    0    0\n",
            "     0]\n",
            " [   0    2    6    5   23    7   51  492    8   50    0    9    0    0\n",
            "     0]\n",
            " [   0    0    0    0   24    5   14    3   83    0    0    2    0    0\n",
            "     0]\n",
            " [   0    0    1    2   17    3   37    4    1  133    0   29    0    0\n",
            "     0]\n",
            " [   0    0    0    0    0    0    0    0    0    0  107    0    0    0\n",
            "     0]\n",
            " [   0    0    0    1   10    1    2    6    0    4    0   35    0    0\n",
            "     0]\n",
            " [   0    0    2    0    0   53    3    0    0    0    0    0   15    0\n",
            "     0]\n",
            " [   0    1    0    0    0    0    8    1    0    0    0    0    0   25\n",
            "     0]\n",
            " [   0    0    0    0    0    0    2    0    0    0    0    0    0    0\n",
            "     0]]\n",
            "Test Set Evaluation:\n",
            "Evaluation Metrics:\n",
            "Accuracy: 87.39%\n",
            "Recall: 0.8739\n",
            "Precision: 0.8739\n",
            "F1 Score: 0.8739\n",
            "Confusion Matrix:\n",
            "[[2930    0    0    0    0    0    0    0    0    0    0    0    0    0]\n",
            " [   0  340    1   46    2    1    1    0    1    0    0    0    0    0]\n",
            " [   0    0  212    0    1    0    9   29    1    1    0    3    0    0]\n",
            " [   0    6    2  473    6    1   12    9    2    1    0    0    0    0]\n",
            " [   1    3    4   10  877   10  155   45    7   42    1   11    0    0]\n",
            " [   0   39    0    3   43 1284   50    7    4    3    0    0    1    0]\n",
            " [   0    2    2    4  110   25 1316   50   17   24    1   15    0    1]\n",
            " [   0    0    4    1   28    8   44  474    2   59    0    9    0    0]\n",
            " [   0    1    0    0   37    4    8    3   72    1    0    1    0    0]\n",
            " [   0    0    0    3   11    1   30    4    3  142    0   26    0    0]\n",
            " [   0    0    0    0    2    0    0    1    0    0  106    0    0    0]\n",
            " [   0    1    0    0    8    0   10    2    1    6    0   48    0    0]\n",
            " [   0    0    0    0    0   43    2    0    0    0    0    0   11    0]\n",
            " [   0    0    0    0    1    0    8    0    1    0    0    0    0   26]]\n"
          ]
        }
      ]
    },
    {
      "cell_type": "markdown",
      "source": [
        "Saving"
      ],
      "metadata": {
        "id": "dyVG36iq72fr"
      }
    },
    {
      "cell_type": "code",
      "source": [
        "# Define a function to plot confusion matrix\n",
        "import matplotlib.pyplot as plt\n",
        "import seaborn as sns\n",
        "def plot_confusion_matrix(confusion_mat, title):\n",
        "    plt.figure(figsize=(8, 6))\n",
        "    sns.heatmap(confusion_mat, annot=True, fmt='d', cmap='Blues', cbar=False)\n",
        "    plt.xlabel('Predicted Labels')\n",
        "    plt.ylabel('True Labels')\n",
        "    plt.title(title)\n",
        "    plt.show()\n",
        "\n",
        "# Evaluation on validation set\n",
        "print(\"Validation Set Evaluation:\")\n",
        "val_accuracy, val_recall, val_precision, val_f1, val_confusion_mat = evaluate_model(model, val_sentence_embeddings, val_pos_embeddings)\n",
        "plot_confusion_matrix(val_confusion_mat, title='Validation Set Confusion Matrix LSTM MODEL')\n",
        "\n",
        "# Evaluation on test set\n",
        "print(\"Test Set Evaluation:\")\n",
        "test_accuracy, test_recall, test_precision, test_f1, test_confusion_mat = evaluate_model(model, test_sentence_embeddings, test_pos_embeddings)\n",
        "plot_confusion_matrix(test_confusion_mat, title='Test Set Confusion Matrix LSTM MODEL')"
      ],
      "metadata": {
        "colab": {
          "base_uri": "https://localhost:8080/",
          "height": 1000
        },
        "id": "ExL1X6bH8dlt",
        "outputId": "a06e0cfb-2cfd-4c07-b8d9-f81e4078979d"
      },
      "execution_count": 28,
      "outputs": [
        {
          "output_type": "stream",
          "name": "stdout",
          "text": [
            "Validation Set Evaluation:\n",
            "Evaluation Metrics:\n",
            "Accuracy: 87.34%\n",
            "Recall: 0.8734\n",
            "Precision: 0.8734\n",
            "F1 Score: 0.8734\n",
            "Confusion Matrix:\n",
            "[[2860    0    0    0    0    0    0    0    0    0    0    0    0    0\n",
            "     0]\n",
            " [   0  365    1   45    1    0    1    1    0    0    0    0    0    0\n",
            "     0]\n",
            " [   0    0  226    1    3    1    2   31    0    0    0    2    0    0\n",
            "     0]\n",
            " [   0   13    0  522    5    6   11    7    0    3    0    0    0    1\n",
            "     0]\n",
            " [   0    1    5    7  880    9  167   28   13   28    0    5    0    0\n",
            "     0]\n",
            " [   0   28    0    1   52 1268   49    9    3    1    0    1    3    0\n",
            "     0]\n",
            " [   0    9    1    8  108   26 1290   54   15   27    0   13    0    0\n",
            "     0]\n",
            " [   0    2    6    5   23    7   51  492    8   50    0    9    0    0\n",
            "     0]\n",
            " [   0    0    0    0   24    5   14    3   83    0    0    2    0    0\n",
            "     0]\n",
            " [   0    0    1    2   17    3   37    4    1  133    0   29    0    0\n",
            "     0]\n",
            " [   0    0    0    0    0    0    0    0    0    0  107    0    0    0\n",
            "     0]\n",
            " [   0    0    0    1   10    1    2    6    0    4    0   35    0    0\n",
            "     0]\n",
            " [   0    0    2    0    0   53    3    0    0    0    0    0   15    0\n",
            "     0]\n",
            " [   0    1    0    0    0    0    8    1    0    0    0    0    0   25\n",
            "     0]\n",
            " [   0    0    0    0    0    0    2    0    0    0    0    0    0    0\n",
            "     0]]\n"
          ]
        },
        {
          "output_type": "display_data",
          "data": {
            "text/plain": [
              "<Figure size 800x600 with 1 Axes>"
            ],
            "image/png": "[encoded data removed]"
          },
          "metadata": {}
        },
        {
          "output_type": "stream",
          "name": "stdout",
          "text": [
            "Test Set Evaluation:\n",
            "Evaluation Metrics:\n",
            "Accuracy: 87.39%\n",
            "Recall: 0.8739\n",
            "Precision: 0.8739\n",
            "F1 Score: 0.8739\n",
            "Confusion Matrix:\n",
            "[[2930    0    0    0    0    0    0    0    0    0    0    0    0    0]\n",
            " [   0  340    1   46    2    1    1    0    1    0    0    0    0    0]\n",
            " [   0    0  212    0    1    0    9   29    1    1    0    3    0    0]\n",
            " [   0    6    2  473    6    1   12    9    2    1    0    0    0    0]\n",
            " [   1    3    4   10  877   10  155   45    7   42    1   11    0    0]\n",
            " [   0   39    0    3   43 1284   50    7    4    3    0    0    1    0]\n",
            " [   0    2    2    4  110   25 1316   50   17   24    1   15    0    1]\n",
            " [   0    0    4    1   28    8   44  474    2   59    0    9    0    0]\n",
            " [   0    1    0    0   37    4    8    3   72    1    0    1    0    0]\n",
            " [   0    0    0    3   11    1   30    4    3  142    0   26    0    0]\n",
            " [   0    0    0    0    2    0    0    1    0    0  106    0    0    0]\n",
            " [   0    1    0    0    8    0   10    2    1    6    0   48    0    0]\n",
            " [   0    0    0    0    0   43    2    0    0    0    0    0   11    0]\n",
            " [   0    0    0    0    1    0    8    0    1    0    0    0    0   26]]\n"
          ]
        },
        {
          "output_type": "display_data",
          "data": {
            "text/plain": [
              "<Figure size 800x600 with 1 Axes>"
            ],
            "image/png": "[encoded data removed]"
          },
          "metadata": {}
        }
      ]
    },
    {
      "cell_type": "code",
      "source": [
        "FFNNmodel_path = path +  'lstmModel.pth'\n",
        "# Save the model\n",
        "torch.save(model.state_dict(), FFNNmodel_path)"
      ],
      "metadata": {
        "id": "gq0_vQZ975OY"
      },
      "execution_count": 28,
      "outputs": []
    },
    {
      "cell_type": "code",
      "source": [
        "def evaluate(sentence):\n",
        "    sentence = re.sub('[^ A-Za-z0-9]+', '', sentence).split()\n",
        "    tokenized_sent = []\n",
        "    for word in sentence:\n",
        "        if word in word_to_index:\n",
        "            tokenized_sent.append(word_to_index[word])\n",
        "        else:\n",
        "            tokenized_sent.append(word_to_index['<UNK>'])\n",
        "\n",
        "    inputs = torch.tensor(tokenized_sent, dtype=torch.long, device=device)\n",
        "    output = model(inputs)\n",
        "    for i in range(len(sentence)):\n",
        "        print(sentence[i]+\"    \"+index_to_tag[torch.argmax(output[i]).item()])\n",
        "index_to_tag = {v: k for k, v in tag_to_index.items()}\n",
        "evaluate(\" An apple a day\")"
      ],
      "metadata": {
        "colab": {
          "base_uri": "https://localhost:8080/"
        },
        "id": "A8AFlosWcHow",
        "outputId": "dd2cbe5c-3a2a-4616-cf5a-a568f78c36c8"
      },
      "execution_count": 29,
      "outputs": [
        {
          "output_type": "stream",
          "name": "stdout",
          "text": [
            "An    NOUN\n",
            "apple    NOUN\n",
            "a    DET\n",
            "day    NOUN\n"
          ]
        }
      ]
    },
    {
      "cell_type": "code",
      "source": [
        "if torch.cuda.is_available():\n",
        "  device = torch.device(\"cuda\")\n",
        "else:\n",
        "  device = torch.device(\"cpu\")\n"
      ],
      "metadata": {
        "colab": {
          "base_uri": "https://localhost:8080/"
        },
        "id": "_Cd8Q-zmaMJO",
        "outputId": "4bf8b2a9-6bdb-4163-bd1e-ba119317681d"
      },
      "execution_count": null,
      "outputs": [
        {
          "output_type": "execute_result",
          "data": {
            "text/plain": [
              "device(type='cuda')"
            ]
          },
          "metadata": {},
          "execution_count": 27
        }
      ]
    }
  ],
  "metadata": {
    "kernelspec": {
      "display_name": "Python 3",
      "name": "python3"
    },
    "language_info": {
      "codemirror_mode": {
        "name": "ipython",
        "version": 3
      },
      "file_extension": ".py",
      "mimetype": "text/x-python",
      "name": "python",
      "nbconvert_exporter": "python",
      "pygments_lexer": "ipython3",
      "version": "3.11.2"
    },
    "colab": {
      "provenance": [],
      "gpuType": "T4"
    },
    "accelerator": "GPU"
  },
  "nbformat": 4,
  "nbformat_minor": 0
}